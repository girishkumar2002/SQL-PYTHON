{
 "cells": [
  {
   "cell_type": "code",
   "execution_count": 1,
   "id": "675fa221-d349-484e-920e-30b8ca08028c",
   "metadata": {},
   "outputs": [],
   "source": [
    "import mysql.connector"
   ]
  },
  {
   "cell_type": "code",
   "execution_count": 3,
   "id": "8065fbea-666c-4d0d-a4fc-0c185cef471e",
   "metadata": {},
   "outputs": [
    {
     "name": "stdout",
     "output_type": "stream",
     "text": [
      "12\n"
     ]
    }
   ],
   "source": [
    "mydb = mysql.connector.connect(host = 'localhost',\n",
    "                               user = 'root',\n",
    "                               password = 'Girish_1234')\n",
    "print(mydb.connection_id)"
   ]
  },
  {
   "cell_type": "code",
   "execution_count": 4,
   "id": "7eac3556-25e3-499e-8c5d-c35f11a0ff7d",
   "metadata": {},
   "outputs": [],
   "source": [
    "cur = mydb.cursor()"
   ]
  },
  {
   "cell_type": "code",
   "execution_count": 5,
   "id": "3e399ebb-aae9-4e84-9570-eb6533e8654c",
   "metadata": {},
   "outputs": [],
   "source": [
    "cur.execute(\"show databases\")"
   ]
  },
  {
   "cell_type": "code",
   "execution_count": 6,
   "id": "f2911d34-427a-40fa-a65f-124f53c8a81c",
   "metadata": {},
   "outputs": [
    {
     "name": "stdout",
     "output_type": "stream",
     "text": [
      "('athelete',)\n",
      "('cx_db',)\n",
      "('employees',)\n",
      "('information_schema',)\n",
      "('my_db',)\n",
      "('mynewdb',)\n",
      "('mysql',)\n",
      "('new_students',)\n",
      "('performance_schema',)\n",
      "('sakila',)\n",
      "('sys',)\n",
      "('world',)\n"
     ]
    }
   ],
   "source": [
    "for dbs in cur:\n",
    "    print(dbs)"
   ]
  },
  {
   "cell_type": "code",
   "execution_count": 8,
   "id": "638dc9aa-9332-4aa6-9969-7ee21b7dddf5",
   "metadata": {},
   "outputs": [
    {
     "name": "stdout",
     "output_type": "stream",
     "text": [
      "mynewdbcreated\n"
     ]
    }
   ],
   "source": [
    "cur.execute(\"create database mynewdb1\")\n",
    "print(\"mynewdbcreated\")"
   ]
  },
  {
   "cell_type": "code",
   "execution_count": 9,
   "id": "a4899008-2c09-4e14-89f9-62a29d62c16c",
   "metadata": {},
   "outputs": [],
   "source": [
    "cur.execute(\"show databases\")"
   ]
  },
  {
   "cell_type": "code",
   "execution_count": 10,
   "id": "06d073dd-430f-463c-b53c-1b512502678f",
   "metadata": {},
   "outputs": [
    {
     "name": "stdout",
     "output_type": "stream",
     "text": [
      "('athelete',)\n",
      "('cx_db',)\n",
      "('employees',)\n",
      "('information_schema',)\n",
      "('my_db',)\n",
      "('mynewdb',)\n",
      "('mynewdb1',)\n",
      "('mysql',)\n",
      "('new_students',)\n",
      "('performance_schema',)\n",
      "('sakila',)\n",
      "('sys',)\n",
      "('world',)\n"
     ]
    }
   ],
   "source": [
    "for dbs in cur:\n",
    "    print(dbs)"
   ]
  },
  {
   "cell_type": "code",
   "execution_count": 12,
   "id": "78607c13-d68f-4b7a-9d24-9dbc9e42d42d",
   "metadata": {},
   "outputs": [],
   "source": [
    "#server => database => data table\n",
    "\n",
    "mydb = mysql.connector.connect(host = \"localhost\",\n",
    "                              user = \"root\",\n",
    "                              password = \"Girish_1234\",\n",
    "                              database = \"mynewdb1\")\n",
    "cur = mydb.cursor()"
   ]
  },
  {
   "cell_type": "code",
   "execution_count": 13,
   "id": "9c4e5753-775a-499d-97b9-55bef337d957",
   "metadata": {},
   "outputs": [
    {
     "name": "stdout",
     "output_type": "stream",
     "text": [
      "Data table Newbook is created in mynewdb to store data\n"
     ]
    }
   ],
   "source": [
    "s = \"create table newbook(bookid int(4) , title varchar(20) , price float(5,2))\"\n",
    "cur.execute(s)\n",
    "mydb.commit()\n",
    "print(\"Data table Newbook is created in mynewdb to store data\")"
   ]
  },
  {
   "cell_type": "code",
   "execution_count": 14,
   "id": "62bc05cc-d16f-43c0-afaf-f6c1046915f4",
   "metadata": {},
   "outputs": [
    {
     "name": "stdout",
     "output_type": "stream",
     "text": [
      "('newbook',)\n"
     ]
    }
   ],
   "source": [
    "s = \"show tables\"\n",
    "cur.execute(s)\n",
    "for table in cur:\n",
    "    print(table)"
   ]
  },
  {
   "cell_type": "code",
   "execution_count": 15,
   "id": "76ee37fe-54ad-4222-bb86-7fda5a78324c",
   "metadata": {},
   "outputs": [
    {
     "name": "stdout",
     "output_type": "stream",
     "text": [
      "value added into table\n"
     ]
    }
   ],
   "source": [
    "s = \"insert into newbook (bookid,title,price) values(%s,%s,%s)\"\n",
    "value = (2,\"HTML\",150)\n",
    "cur.execute(s,value)\n",
    "print(\"value added into table\")"
   ]
  },
  {
   "cell_type": "code",
   "execution_count": 16,
   "id": "33ab23fe-bab2-42cd-88e4-4c72a7119c52",
   "metadata": {},
   "outputs": [
    {
     "name": "stdout",
     "output_type": "stream",
     "text": [
      "(2, 'HTML', 150.0)\n"
     ]
    }
   ],
   "source": [
    "s = \"select * from newbook\"\n",
    "cur.execute(s)\n",
    "for row in cur:\n",
    "    print(row)"
   ]
  },
  {
   "cell_type": "code",
   "execution_count": 17,
   "id": "e370e182-9dde-40bf-bba5-c418efde5eb3",
   "metadata": {},
   "outputs": [
    {
     "name": "stdout",
     "output_type": "stream",
     "text": [
      "Multiple values are added successfully\n"
     ]
    }
   ],
   "source": [
    "s = \"insert into newbook (bookid,title,price) values (%s,%s,%s)\"\n",
    "value = [(3,\"PHP\",150),(4,\"Java\",100),(5,\"Scala\",160)]\n",
    "cur.executemany(s,value)\n",
    "print(\"Multiple values are added successfully\")"
   ]
  },
  {
   "cell_type": "code",
   "execution_count": 18,
   "id": "eab18d70-5f48-4e04-a298-aeaf7c87db53",
   "metadata": {},
   "outputs": [
    {
     "name": "stdout",
     "output_type": "stream",
     "text": [
      "(2, 'HTML', 150.0)\n",
      "(3, 'PHP', 150.0)\n",
      "(4, 'Java', 100.0)\n",
      "(5, 'Scala', 160.0)\n"
     ]
    }
   ],
   "source": [
    "s = \"select * from newbook\"\n",
    "cur.execute(s)\n",
    "for row in cur:\n",
    "    print(row)"
   ]
  },
  {
   "cell_type": "code",
   "execution_count": 19,
   "id": "a0271152-1195-4920-b1b9-cd6e4351fac4",
   "metadata": {},
   "outputs": [
    {
     "name": "stdout",
     "output_type": "stream",
     "text": [
      "[(2, 'HTML', 150.0), (3, 'PHP', 150.0), (4, 'Java', 100.0), (5, 'Scala', 160.0)]\n"
     ]
    }
   ],
   "source": [
    "s = \"select * from newbook\"\n",
    "cur.execute(s)\n",
    "result = cur.fetchall()\n",
    "print(result)"
   ]
  },
  {
   "cell_type": "code",
   "execution_count": 20,
   "id": "4766f418-b1fa-41e5-aa89-8bb34cbb12bf",
   "metadata": {},
   "outputs": [
    {
     "name": "stdout",
     "output_type": "stream",
     "text": [
      "(2, 'HTML', 150.0)\n",
      "(3, 'PHP', 150.0)\n",
      "(4, 'Java', 100.0)\n",
      "(5, 'Scala', 160.0)\n"
     ]
    }
   ],
   "source": [
    "s = \"select * from newbook\"\n",
    "cur.execute(s)\n",
    "result = cur.fetchall()\n",
    "for res in result:\n",
    "    print(res)"
   ]
  },
  {
   "cell_type": "code",
   "execution_count": 21,
   "id": "2ba1127b-7b9a-43f1-9364-9fe45ac72798",
   "metadata": {},
   "outputs": [
    {
     "name": "stdout",
     "output_type": "stream",
     "text": [
      "Price values are updated\n"
     ]
    }
   ],
   "source": [
    "#write a query to increase price by 10\n",
    "\n",
    "s = \"update newbook set price = price + 10\"\n",
    "cur.execute(s)\n",
    "print(\"Price values are updated\")"
   ]
  },
  {
   "cell_type": "code",
   "execution_count": 22,
   "id": "95f87976-8c48-4e27-af32-0149d71e79a8",
   "metadata": {},
   "outputs": [
    {
     "name": "stdout",
     "output_type": "stream",
     "text": [
      "[(2, 'HTML', 160.0), (3, 'PHP', 160.0), (4, 'Java', 110.0), (5, 'Scala', 170.0)]\n"
     ]
    }
   ],
   "source": [
    "s = \"select * from newbook\"\n",
    "cur.execute(s)\n",
    "result = cur.fetchall()\n",
    "print(result)"
   ]
  },
  {
   "cell_type": "code",
   "execution_count": 23,
   "id": "2cfec99d-071b-4ef9-bc21-4a300fc201bb",
   "metadata": {},
   "outputs": [
    {
     "name": "stdout",
     "output_type": "stream",
     "text": [
      "Price values are updated\n"
     ]
    }
   ],
   "source": [
    "#write a query to decrease price by 10% where it is more then 200\n",
    "\n",
    "s = \"update newbook set price = price * 0.9 where price > 200\"\n",
    "cur.execute(s)\n",
    "print(\"Price values are updated\")"
   ]
  },
  {
   "cell_type": "code",
   "execution_count": 24,
   "id": "7fd2627a-43a7-4e0d-90f4-15754e625dbc",
   "metadata": {},
   "outputs": [
    {
     "name": "stdout",
     "output_type": "stream",
     "text": [
      "[(2, 'HTML', 160.0), (3, 'PHP', 160.0), (4, 'Java', 110.0), (5, 'Scala', 170.0)]\n"
     ]
    }
   ],
   "source": [
    "s = \"select * from newbook\"\n",
    "cur.execute(s)\n",
    "result = cur.fetchall()\n",
    "print(result)"
   ]
  },
  {
   "cell_type": "code",
   "execution_count": 25,
   "id": "f8b00dae-9dc3-4188-a773-34b49892fc69",
   "metadata": {},
   "outputs": [
    {
     "name": "stdout",
     "output_type": "stream",
     "text": [
      "Sample Scala is deleted\n"
     ]
    }
   ],
   "source": [
    "#write a query to delete data sample representing \"Scala\"\n",
    "\n",
    "s = \"delete from newbook where title = 'Scala'\"\n",
    "cur.execute(s)\n",
    "print(\"Sample Scala is deleted\")"
   ]
  },
  {
   "cell_type": "code",
   "execution_count": 26,
   "id": "a0db6318-e696-4330-9439-931765abb36c",
   "metadata": {},
   "outputs": [
    {
     "name": "stdout",
     "output_type": "stream",
     "text": [
      "[(2, 'HTML', 160.0), (3, 'PHP', 160.0), (4, 'Java', 110.0)]\n"
     ]
    }
   ],
   "source": [
    "s = \"select * from newbook\"\n",
    "cur.execute(s)\n",
    "result = cur.fetchall()\n",
    "print(result)"
   ]
  },
  {
   "cell_type": "code",
   "execution_count": 27,
   "id": "e9c23ffd-e1dc-474e-ae4d-c5f6965b94d5",
   "metadata": {},
   "outputs": [],
   "source": [
    "s = \"insert into newbook (bookid,title,price) values (%s,%s,%s)\"\n",
    "values = [(3,'PHP',160),(3,'PHP',160)]\n",
    "cur.executemany(s,values)"
   ]
  },
  {
   "cell_type": "code",
   "execution_count": 28,
   "id": "3eec60d6-751f-47b5-8f7f-8fa04b2a30a2",
   "metadata": {},
   "outputs": [
    {
     "name": "stdout",
     "output_type": "stream",
     "text": [
      "[(2, 'HTML', 160.0), (3, 'PHP', 160.0), (4, 'Java', 110.0), (3, 'PHP', 160.0), (3, 'PHP', 160.0)]\n"
     ]
    }
   ],
   "source": [
    "s = \"select * from newbook\"\n",
    "cur.execute(s)\n",
    "result = cur.fetchall()\n",
    "print(result)"
   ]
  },
  {
   "cell_type": "code",
   "execution_count": 29,
   "id": "64ab8240-d14d-4581-a426-cb1c35bfb851",
   "metadata": {},
   "outputs": [],
   "source": [
    "#create a table newbook2 with all the values of newbook i.e. a copy of newbook\n",
    "\n",
    "s = \"create table newbook2 as select * from newbook\"\n",
    "cur.execute(s)"
   ]
  },
  {
   "cell_type": "code",
   "execution_count": 30,
   "id": "a100b6a0-d908-4aad-b33d-18d95a5b30ab",
   "metadata": {},
   "outputs": [
    {
     "name": "stdout",
     "output_type": "stream",
     "text": [
      "[(2, 'HTML', 160.0), (3, 'PHP', 160.0), (4, 'Java', 110.0), (3, 'PHP', 160.0), (3, 'PHP', 160.0)]\n"
     ]
    }
   ],
   "source": [
    "s = \"select * from newbook2\"\n",
    "cur.execute(s)\n",
    "result = cur.fetchall()\n",
    "print(result)"
   ]
  },
  {
   "cell_type": "code",
   "execution_count": 31,
   "id": "2a05d58f-7250-4936-a430-8e7378ebf855",
   "metadata": {},
   "outputs": [],
   "source": [
    "#create a table newbook3 with non repetitive values of newbook\n",
    "\n",
    "s = \"create table newbook3 as select distinct bookid,title,price from newbook\"\n",
    "cur.execute(s)"
   ]
  },
  {
   "cell_type": "code",
   "execution_count": 32,
   "id": "3cc6205e-2440-4c11-9097-7f177eca471d",
   "metadata": {},
   "outputs": [
    {
     "name": "stdout",
     "output_type": "stream",
     "text": [
      "[(2, 'HTML', 160.0), (3, 'PHP', 160.0), (4, 'Java', 110.0)]\n"
     ]
    }
   ],
   "source": [
    "s = \"select * from newbook3\"\n",
    "cur.execute(s)\n",
    "result = cur.fetchall()\n",
    "print(result)"
   ]
  },
  {
   "cell_type": "code",
   "execution_count": 33,
   "id": "7a7931c7-e065-4a89-99dd-44e4263efeaf",
   "metadata": {},
   "outputs": [
    {
     "name": "stdout",
     "output_type": "stream",
     "text": [
      "('newbook',)\n",
      "('newbook2',)\n",
      "('newbook3',)\n"
     ]
    }
   ],
   "source": [
    "s = \"show tables\"\n",
    "cur.execute(s)\n",
    "for table in cur:\n",
    "    print(table)"
   ]
  },
  {
   "cell_type": "code",
   "execution_count": 34,
   "id": "1bc000d7-9e87-4de4-b1d2-b5ad5535e1be",
   "metadata": {},
   "outputs": [],
   "source": [
    "#write a query to delete table newbook2\n",
    "s = \"drop table newbook2\"\n",
    "cur.execute(s)"
   ]
  },
  {
   "cell_type": "code",
   "execution_count": 35,
   "id": "5dc62d0b-de0b-4398-a2cc-812adb6ecc9c",
   "metadata": {},
   "outputs": [
    {
     "name": "stdout",
     "output_type": "stream",
     "text": [
      "('newbook',)\n",
      "('newbook3',)\n"
     ]
    }
   ],
   "source": [
    "s = \"show tables\"\n",
    "cur.execute(s)\n",
    "for table in cur:\n",
    "    print(table)"
   ]
  },
  {
   "cell_type": "code",
   "execution_count": 36,
   "id": "ac46769f-2a69-48a1-91d3-3511cc87929f",
   "metadata": {},
   "outputs": [
    {
     "name": "stdout",
     "output_type": "stream",
     "text": [
      "quanity column is added\n"
     ]
    }
   ],
   "source": [
    "#write a query to add a new coluwm quantity as integer value\n",
    "\n",
    "s = \"alter table newbook add column quantity int(4)\"\n",
    "cur.execute(s)\n",
    "print('quanity column is added')"
   ]
  },
  {
   "cell_type": "code",
   "execution_count": 37,
   "id": "81d4d3a9-5a5e-4c80-b7c3-1be0062c570f",
   "metadata": {},
   "outputs": [],
   "source": [
    "s = \"describe newbook\"\n",
    "cur.execute(s)"
   ]
  },
  {
   "cell_type": "code",
   "execution_count": 38,
   "id": "5b0d05cf-899c-4365-b50f-f7682cc2a05d",
   "metadata": {},
   "outputs": [
    {
     "name": "stdout",
     "output_type": "stream",
     "text": [
      "('bookid', 'int', 'YES', '', None, '')\n",
      "('title', 'varchar(20)', 'YES', '', None, '')\n",
      "('price', 'float(5,2)', 'YES', '', None, '')\n",
      "('quantity', 'int', 'YES', '', None, '')\n"
     ]
    }
   ],
   "source": [
    "for cols in cur:\n",
    "    print(cols)"
   ]
  },
  {
   "cell_type": "code",
   "execution_count": 39,
   "id": "7ce4ed6b-3881-4a03-a71d-ba8c5126b5d9",
   "metadata": {},
   "outputs": [
    {
     "name": "stdout",
     "output_type": "stream",
     "text": [
      "[(2, 'HTML', 160.0, None), (3, 'PHP', 160.0, None), (4, 'Java', 110.0, None), (3, 'PHP', 160.0, None), (3, 'PHP', 160.0, None)]\n"
     ]
    }
   ],
   "source": [
    "s = \"select * from newbook\"\n",
    "cur.execute(s)\n",
    "result = cur.fetchall()\n",
    "print(result)"
   ]
  },
  {
   "cell_type": "code",
   "execution_count": 40,
   "id": "fa8ebebe-8552-43a3-8a10-e9f3c7339078",
   "metadata": {},
   "outputs": [],
   "source": [
    "#add a new column between price and quantity\n",
    "\n",
    "s = \"alter table newbook add column sales float(7,2) after price\"\n",
    "cur.execute(s)"
   ]
  },
  {
   "cell_type": "code",
   "execution_count": 41,
   "id": "fd19a757-7b39-4527-b99f-aace3b648fbf",
   "metadata": {},
   "outputs": [
    {
     "name": "stdout",
     "output_type": "stream",
     "text": [
      "('bookid', 'int', 'YES', '', None, '')\n",
      "('title', 'varchar(20)', 'YES', '', None, '')\n",
      "('price', 'float(5,2)', 'YES', '', None, '')\n",
      "('sales', 'float(7,2)', 'YES', '', None, '')\n",
      "('quantity', 'int', 'YES', '', None, '')\n"
     ]
    }
   ],
   "source": [
    "s = \"describe newbook\"\n",
    "cur.execute(s)\n",
    "\n",
    "for cols in cur:\n",
    "    print(cols)"
   ]
  },
  {
   "cell_type": "code",
   "execution_count": 42,
   "id": "c0833b6b-d428-495b-9ea4-857e8e2f3b09",
   "metadata": {},
   "outputs": [
    {
     "name": "stdout",
     "output_type": "stream",
     "text": [
      "[(2, 'HTML', 160.0, None, None), (3, 'PHP', 160.0, None, None), (4, 'Java', 110.0, None, None), (3, 'PHP', 160.0, None, None), (3, 'PHP', 160.0, None, None)]\n"
     ]
    }
   ],
   "source": [
    "s = \"select * from newbook\"\n",
    "cur.execute(s)\n",
    "result = cur.fetchall()\n",
    "print(result)"
   ]
  },
  {
   "cell_type": "code",
   "execution_count": 43,
   "id": "3c32aa5e-50fd-4ad6-960a-44e049ce7a29",
   "metadata": {},
   "outputs": [],
   "source": [
    "#add a new column skuid as first column\n",
    "\n",
    "s = \"alter table newbook add column skuid int first\"\n",
    "cur.execute(s)"
   ]
  },
  {
   "cell_type": "code",
   "execution_count": 44,
   "id": "51259e92-9af5-4970-9ff9-ef848d314347",
   "metadata": {},
   "outputs": [
    {
     "name": "stdout",
     "output_type": "stream",
     "text": [
      "('skuid', 'int', 'YES', '', None, '')\n",
      "('bookid', 'int', 'YES', '', None, '')\n",
      "('title', 'varchar(20)', 'YES', '', None, '')\n",
      "('price', 'float(5,2)', 'YES', '', None, '')\n",
      "('sales', 'float(7,2)', 'YES', '', None, '')\n",
      "('quantity', 'int', 'YES', '', None, '')\n"
     ]
    }
   ],
   "source": [
    "s = \"describe newbook\"\n",
    "cur.execute(s)\n",
    "\n",
    "for cols in cur:\n",
    "    print(cols)"
   ]
  },
  {
   "cell_type": "code",
   "execution_count": 45,
   "id": "56cd7b1b-47ec-491e-ae52-5f5233c2c348",
   "metadata": {},
   "outputs": [
    {
     "name": "stdout",
     "output_type": "stream",
     "text": [
      "[(None, 2, 'HTML', 160.0, None, None), (None, 3, 'PHP', 160.0, None, None), (None, 4, 'Java', 110.0, None, None), (None, 3, 'PHP', 160.0, None, None), (None, 3, 'PHP', 160.0, None, None)]\n"
     ]
    }
   ],
   "source": [
    "s = \"select * from newbook\"\n",
    "cur.execute(s)\n",
    "result = cur.fetchall()\n",
    "print(result)"
   ]
  },
  {
   "cell_type": "code",
   "execution_count": 46,
   "id": "4aacd25e-82e5-458d-8882-00cb310da1ca",
   "metadata": {},
   "outputs": [],
   "source": [
    "#delete the column bookid\n",
    "\n",
    "s = \"alter table newbook drop column bookid\"\n",
    "cur.execute(s)"
   ]
  },
  {
   "cell_type": "code",
   "execution_count": 47,
   "id": "478790b4-aad0-404b-ab89-f9c6cd4f52ff",
   "metadata": {},
   "outputs": [
    {
     "name": "stdout",
     "output_type": "stream",
     "text": [
      "('skuid', 'int', 'YES', '', None, '')\n",
      "('title', 'varchar(20)', 'YES', '', None, '')\n",
      "('price', 'float(5,2)', 'YES', '', None, '')\n",
      "('sales', 'float(7,2)', 'YES', '', None, '')\n",
      "('quantity', 'int', 'YES', '', None, '')\n"
     ]
    }
   ],
   "source": [
    "s = \"describe newbook\"\n",
    "cur.execute(s)\n",
    "\n",
    "for cols in cur:\n",
    "    print(cols)"
   ]
  },
  {
   "cell_type": "code",
   "execution_count": 48,
   "id": "e8fec68a-1442-4198-a203-f72a8fbc4a2b",
   "metadata": {},
   "outputs": [],
   "source": [
    "#insert a new data sample\n",
    "\n",
    "s = \"insert into newbook (skuid,title,price,sales,quantity) values (4,'C++',130,20000,)\""
   ]
  },
  {
   "cell_type": "code",
   "execution_count": null,
   "id": "d13a8f66-809a-4b35-aea4-9334869b0166",
   "metadata": {},
   "outputs": [],
   "source": []
  }
 ],
 "metadata": {
  "kernelspec": {
   "display_name": "Python 3 (ipykernel)",
   "language": "python",
   "name": "python3"
  },
  "language_info": {
   "codemirror_mode": {
    "name": "ipython",
    "version": 3
   },
   "file_extension": ".py",
   "mimetype": "text/x-python",
   "name": "python",
   "nbconvert_exporter": "python",
   "pygments_lexer": "ipython3",
   "version": "3.11.8"
  }
 },
 "nbformat": 4,
 "nbformat_minor": 5
}
